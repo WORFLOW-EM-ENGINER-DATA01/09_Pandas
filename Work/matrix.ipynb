{
 "cells": [
  {
   "cell_type": "code",
   "execution_count": 33,
   "id": "d603403d-3ff7-4648-8674-85735eb84a93",
   "metadata": {},
   "outputs": [
    {
     "name": "stdout",
     "output_type": "stream",
     "text": [
      "   0  1  2\n",
      "0  1  2  3\n",
      "1  4  5  6\n",
      "2  7  8  9\n"
     ]
    }
   ],
   "source": [
    "import pandas as pd\n",
    "\n",
    "data = [\n",
    "    [1, 2, 3],\n",
    "    [4, 5, 6],\n",
    "    [7, 8, 9]\n",
    "]\n",
    "\n",
    "matrix = pd.DataFrame(data)\n",
    "print(matrix)"
   ]
  },
  {
   "cell_type": "code",
   "execution_count": 34,
   "id": "4aa10601-eebd-4794-91c1-6ddb07e13785",
   "metadata": {},
   "outputs": [
    {
     "data": {
      "text/html": [
       "<div>\n",
       "<style scoped>\n",
       "    .dataframe tbody tr th:only-of-type {\n",
       "        vertical-align: middle;\n",
       "    }\n",
       "\n",
       "    .dataframe tbody tr th {\n",
       "        vertical-align: top;\n",
       "    }\n",
       "\n",
       "    .dataframe thead th {\n",
       "        text-align: right;\n",
       "    }\n",
       "</style>\n",
       "<table border=\"1\" class=\"dataframe\">\n",
       "  <thead>\n",
       "    <tr style=\"text-align: right;\">\n",
       "      <th></th>\n",
       "      <th>0</th>\n",
       "      <th>1</th>\n",
       "      <th>2</th>\n",
       "    </tr>\n",
       "  </thead>\n",
       "  <tbody>\n",
       "    <tr>\n",
       "      <th>0</th>\n",
       "      <td>11</td>\n",
       "      <td>12</td>\n",
       "      <td>13</td>\n",
       "    </tr>\n",
       "    <tr>\n",
       "      <th>1</th>\n",
       "      <td>14</td>\n",
       "      <td>15</td>\n",
       "      <td>16</td>\n",
       "    </tr>\n",
       "    <tr>\n",
       "      <th>2</th>\n",
       "      <td>17</td>\n",
       "      <td>18</td>\n",
       "      <td>19</td>\n",
       "    </tr>\n",
       "  </tbody>\n",
       "</table>\n",
       "</div>"
      ],
      "text/plain": [
       "    0   1   2\n",
       "0  11  12  13\n",
       "1  14  15  16\n",
       "2  17  18  19"
      ]
     },
     "execution_count": 34,
     "metadata": {},
     "output_type": "execute_result"
    }
   ],
   "source": [
    "matrix + 10 "
   ]
  },
  {
   "cell_type": "code",
   "execution_count": 35,
   "id": "a9786489-4b65-41c2-8959-8d6a421f7cf7",
   "metadata": {},
   "outputs": [],
   "source": [
    "matrix = matrix + 10"
   ]
  },
  {
   "cell_type": "code",
   "execution_count": 36,
   "id": "77f0d8f5-01f7-4b0c-82fd-eaf37b4ba889",
   "metadata": {},
   "outputs": [
    {
     "data": {
      "text/html": [
       "<div>\n",
       "<style scoped>\n",
       "    .dataframe tbody tr th:only-of-type {\n",
       "        vertical-align: middle;\n",
       "    }\n",
       "\n",
       "    .dataframe tbody tr th {\n",
       "        vertical-align: top;\n",
       "    }\n",
       "\n",
       "    .dataframe thead th {\n",
       "        text-align: right;\n",
       "    }\n",
       "</style>\n",
       "<table border=\"1\" class=\"dataframe\">\n",
       "  <thead>\n",
       "    <tr style=\"text-align: right;\">\n",
       "      <th></th>\n",
       "      <th>0</th>\n",
       "      <th>1</th>\n",
       "      <th>2</th>\n",
       "    </tr>\n",
       "  </thead>\n",
       "  <tbody>\n",
       "    <tr>\n",
       "      <th>0</th>\n",
       "      <td>11</td>\n",
       "      <td>12</td>\n",
       "      <td>13</td>\n",
       "    </tr>\n",
       "    <tr>\n",
       "      <th>1</th>\n",
       "      <td>14</td>\n",
       "      <td>15</td>\n",
       "      <td>16</td>\n",
       "    </tr>\n",
       "    <tr>\n",
       "      <th>2</th>\n",
       "      <td>17</td>\n",
       "      <td>18</td>\n",
       "      <td>19</td>\n",
       "    </tr>\n",
       "  </tbody>\n",
       "</table>\n",
       "</div>"
      ],
      "text/plain": [
       "    0   1   2\n",
       "0  11  12  13\n",
       "1  14  15  16\n",
       "2  17  18  19"
      ]
     },
     "execution_count": 36,
     "metadata": {},
     "output_type": "execute_result"
    }
   ],
   "source": [
    "matrix"
   ]
  },
  {
   "cell_type": "code",
   "execution_count": 37,
   "id": "480957a1-714f-4b4d-a0c7-9c6e7607afa4",
   "metadata": {},
   "outputs": [],
   "source": [
    "matrix = matrix * 1.1"
   ]
  },
  {
   "cell_type": "code",
   "execution_count": 38,
   "id": "63dc624b-ddfd-48a3-b98a-e493bcc0af23",
   "metadata": {},
   "outputs": [
    {
     "data": {
      "text/html": [
       "<div>\n",
       "<style scoped>\n",
       "    .dataframe tbody tr th:only-of-type {\n",
       "        vertical-align: middle;\n",
       "    }\n",
       "\n",
       "    .dataframe tbody tr th {\n",
       "        vertical-align: top;\n",
       "    }\n",
       "\n",
       "    .dataframe thead th {\n",
       "        text-align: right;\n",
       "    }\n",
       "</style>\n",
       "<table border=\"1\" class=\"dataframe\">\n",
       "  <thead>\n",
       "    <tr style=\"text-align: right;\">\n",
       "      <th></th>\n",
       "      <th>0</th>\n",
       "      <th>1</th>\n",
       "      <th>2</th>\n",
       "    </tr>\n",
       "  </thead>\n",
       "  <tbody>\n",
       "    <tr>\n",
       "      <th>0</th>\n",
       "      <td>12.1</td>\n",
       "      <td>13.2</td>\n",
       "      <td>14.3</td>\n",
       "    </tr>\n",
       "    <tr>\n",
       "      <th>1</th>\n",
       "      <td>15.4</td>\n",
       "      <td>16.5</td>\n",
       "      <td>17.6</td>\n",
       "    </tr>\n",
       "    <tr>\n",
       "      <th>2</th>\n",
       "      <td>18.7</td>\n",
       "      <td>19.8</td>\n",
       "      <td>20.9</td>\n",
       "    </tr>\n",
       "  </tbody>\n",
       "</table>\n",
       "</div>"
      ],
      "text/plain": [
       "      0     1     2\n",
       "0  12.1  13.2  14.3\n",
       "1  15.4  16.5  17.6\n",
       "2  18.7  19.8  20.9"
      ]
     },
     "execution_count": 38,
     "metadata": {},
     "output_type": "execute_result"
    }
   ],
   "source": [
    "matrix"
   ]
  },
  {
   "cell_type": "code",
   "execution_count": 39,
   "id": "268ad288-5a2a-4e68-82be-b0a8879025ec",
   "metadata": {},
   "outputs": [
    {
     "data": {
      "text/html": [
       "<div>\n",
       "<style scoped>\n",
       "    .dataframe tbody tr th:only-of-type {\n",
       "        vertical-align: middle;\n",
       "    }\n",
       "\n",
       "    .dataframe tbody tr th {\n",
       "        vertical-align: top;\n",
       "    }\n",
       "\n",
       "    .dataframe thead th {\n",
       "        text-align: right;\n",
       "    }\n",
       "</style>\n",
       "<table border=\"1\" class=\"dataframe\">\n",
       "  <thead>\n",
       "    <tr style=\"text-align: right;\">\n",
       "      <th></th>\n",
       "      <th>1</th>\n",
       "      <th>2</th>\n",
       "    </tr>\n",
       "  </thead>\n",
       "  <tbody>\n",
       "    <tr>\n",
       "      <th>1</th>\n",
       "      <td>16.5</td>\n",
       "      <td>17.6</td>\n",
       "    </tr>\n",
       "    <tr>\n",
       "      <th>2</th>\n",
       "      <td>19.8</td>\n",
       "      <td>20.9</td>\n",
       "    </tr>\n",
       "  </tbody>\n",
       "</table>\n",
       "</div>"
      ],
      "text/plain": [
       "      1     2\n",
       "1  16.5  17.6\n",
       "2  19.8  20.9"
      ]
     },
     "execution_count": 39,
     "metadata": {},
     "output_type": "execute_result"
    }
   ],
   "source": [
    "# Modifier une partie de la matrice\n",
    "# matrix.iloc[1::, 1::] = 10 \n",
    "\n",
    "# Affichez une sous-matrice\n",
    "matrix.iloc[1::, 1::]"
   ]
  },
  {
   "cell_type": "code",
   "execution_count": 40,
   "id": "27a0ea69-8729-45af-8d43-b6eeaf29213a",
   "metadata": {},
   "outputs": [],
   "source": [
    "# Augmentez de 15% les valeurs supérieur à 16 \n",
    "\n",
    "mask = matrix > 16 # filtrage \n",
    "matrix[mask] = matrix[mask] * 1.15 "
   ]
  },
  {
   "cell_type": "code",
   "execution_count": 41,
   "id": "c5f196d3-7219-42ba-9925-1ab68e143077",
   "metadata": {},
   "outputs": [
    {
     "data": {
      "text/html": [
       "<div>\n",
       "<style scoped>\n",
       "    .dataframe tbody tr th:only-of-type {\n",
       "        vertical-align: middle;\n",
       "    }\n",
       "\n",
       "    .dataframe tbody tr th {\n",
       "        vertical-align: top;\n",
       "    }\n",
       "\n",
       "    .dataframe thead th {\n",
       "        text-align: right;\n",
       "    }\n",
       "</style>\n",
       "<table border=\"1\" class=\"dataframe\">\n",
       "  <thead>\n",
       "    <tr style=\"text-align: right;\">\n",
       "      <th></th>\n",
       "      <th>0</th>\n",
       "      <th>1</th>\n",
       "      <th>2</th>\n",
       "    </tr>\n",
       "  </thead>\n",
       "  <tbody>\n",
       "    <tr>\n",
       "      <th>0</th>\n",
       "      <td>12.100</td>\n",
       "      <td>13.200</td>\n",
       "      <td>14.300</td>\n",
       "    </tr>\n",
       "    <tr>\n",
       "      <th>1</th>\n",
       "      <td>15.400</td>\n",
       "      <td>18.975</td>\n",
       "      <td>20.240</td>\n",
       "    </tr>\n",
       "    <tr>\n",
       "      <th>2</th>\n",
       "      <td>21.505</td>\n",
       "      <td>22.770</td>\n",
       "      <td>24.035</td>\n",
       "    </tr>\n",
       "  </tbody>\n",
       "</table>\n",
       "</div>"
      ],
      "text/plain": [
       "        0       1       2\n",
       "0  12.100  13.200  14.300\n",
       "1  15.400  18.975  20.240\n",
       "2  21.505  22.770  24.035"
      ]
     },
     "execution_count": 41,
     "metadata": {},
     "output_type": "execute_result"
    }
   ],
   "source": [
    "matrix"
   ]
  },
  {
   "cell_type": "code",
   "execution_count": 42,
   "id": "8285200e-66a4-428b-955a-d6394f2febeb",
   "metadata": {},
   "outputs": [
    {
     "name": "stdout",
     "output_type": "stream",
     "text": [
      "    A   B   C   D   E   F   G   H   I   J\n",
      "a  13  54  23  23  62  29  53  15  54  67\n",
      "b  13  54  23  23  62  29  53  15  54  67\n",
      "c  98  36  34  40  13  92  41  61  94  62\n",
      "d  33  87  46  44  82  87  11  76  76  21\n",
      "e  56  16  13  91  64  13  77  44  44  27\n",
      "f  56  16  13  91  64  13  77  44  44  27\n",
      "g  15  87  20  50  53  48  39  38  91  32\n",
      "h  93  48  28  27  50  55  28  38  78  85\n",
      "i  76  58  26  89  88  71  97  80  42  52\n",
      "j  76  58  26  89  88  71  97  80  42  52\n",
      "k  38  98  55  61  75  82  37  64  87  83\n",
      "l  24  53  16  84  82  13  18  18  82  51\n"
     ]
    }
   ],
   "source": [
    "data = [\n",
    "    [13, 54, 23, 23, 62, 29, 53, 15, 54, 67],\n",
    "    [13, 54, 23, 23, 62, 29, 53, 15, 54, 67],\n",
    "    [98, 36, 34, 40, 13, 92, 41, 61, 94, 62],\n",
    "    [33, 87, 46, 44, 82, 87, 11, 76, 76, 21],\n",
    "    [56, 16, 13, 91, 64, 13, 77, 44, 44, 27],\n",
    "    [56, 16, 13, 91, 64, 13, 77, 44, 44, 27],\n",
    "    [15, 87, 20, 50, 53, 48, 39, 38, 91, 32],\n",
    "    [93, 48, 28, 27, 50, 55, 28, 38, 78, 85],\n",
    "    [76, 58, 26, 89, 88, 71, 97, 80, 42, 52],\n",
    "    [76, 58, 26, 89, 88, 71, 97, 80, 42, 52],\n",
    "    [38, 98, 55, 61, 75, 82, 37, 64, 87, 83],\n",
    "    [24, 53, 16, 84, 82, 13, 18, 18, 82, 51]\n",
    "]\n",
    "\n",
    "index_labels = list(\"abcdefghijkl\")\n",
    "column_labels = list(\"ABCDEFGHIJ\")\n",
    "\n",
    "df = pd.DataFrame(data, index=index_labels, columns=column_labels)\n",
    "print(df)"
   ]
  },
  {
   "cell_type": "code",
   "execution_count": null,
   "id": "66439537-a998-4836-9cf4-3261923d345e",
   "metadata": {},
   "outputs": [],
   "source": [
    "# suppression des lignes identiques\n",
    "df_no_duplicates = df.drop_duplicates()"
   ]
  }
 ],
 "metadata": {
  "kernelspec": {
   "display_name": "Python 3 (ipykernel)",
   "language": "python",
   "name": "python3"
  },
  "language_info": {
   "codemirror_mode": {
    "name": "ipython",
    "version": 3
   },
   "file_extension": ".py",
   "mimetype": "text/x-python",
   "name": "python",
   "nbconvert_exporter": "python",
   "pygments_lexer": "ipython3",
   "version": "3.11.9"
  }
 },
 "nbformat": 4,
 "nbformat_minor": 5
}
