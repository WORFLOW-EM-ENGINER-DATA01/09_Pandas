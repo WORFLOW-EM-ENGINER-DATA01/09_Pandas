{
 "cells": [
  {
   "cell_type": "code",
   "execution_count": null,
   "id": "183a8075-7452-4cfa-ab43-6bc3730e5a03",
   "metadata": {},
   "outputs": [],
   "source": [
    "import pandas as pd\n",
    "\n",
    "# Données des températures pour le mois de janvier\n",
    "january = pd.DataFrame({'Temperature': [-2,  5, -5,  6, -2,  0,  6,  2,  8,  0,  6, -1,  3,  3,  7,  0, -5,\n",
    "                                        7,  4,  7,  8, -1,  5, -2,  3, -3, -2,  7,  8,  4,  2]}, dtype='float64')\n",
    "\n",
    "# 1. Températures supérieures à 0\n",
    "\n",
    "\n",
    "# 2. Comparaison des températures supérieures et inférieures à 0\n",
    "\n",
    "\n",
    "# 3. Pourcentage des températures positives sur le mois\n",
    "\n",
    "\n",
    "# 4. Création d'un tableau des jours pour les températures supérieures à 0\n",
    "\n",
    "\n",
    "# 5. Températures supérieures à 0 à partir du dixième jour du mois\n",
    "\n",
    "\n",
    "# 6. Remplacement des températures négatives par la moyenne des températures positives\n"
   ]
  }
 ],
 "metadata": {
  "kernelspec": {
   "display_name": "Python 3 (ipykernel)",
   "language": "python",
   "name": "python3"
  },
  "language_info": {
   "codemirror_mode": {
    "name": "ipython",
    "version": 3
   },
   "file_extension": ".py",
   "mimetype": "text/x-python",
   "name": "python",
   "nbconvert_exporter": "python",
   "pygments_lexer": "ipython3",
   "version": "3.11.9"
  }
 },
 "nbformat": 4,
 "nbformat_minor": 5
}
