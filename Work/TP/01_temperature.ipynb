{
 "cells": [
  {
   "cell_type": "code",
   "execution_count": 1,
   "id": "183a8075-7452-4cfa-ab43-6bc3730e5a03",
   "metadata": {},
   "outputs": [
    {
     "name": "stdout",
     "output_type": "stream",
     "text": [
      "19\n",
      "19 12\n",
      "il y a plus de temperatures positives\n",
      "61.29\n",
      "DatetimeIndex(['2024-01-02', '2024-01-04', '2024-01-07', '2024-01-08',\n",
      "               '2024-01-09', '2024-01-11', '2024-01-13', '2024-01-14',\n",
      "               '2024-01-15', '2024-01-18', '2024-01-19', '2024-01-20',\n",
      "               '2024-01-21', '2024-01-23', '2024-01-25', '2024-01-28',\n",
      "               '2024-01-29', '2024-01-30', '2024-01-31'],\n",
      "              dtype='datetime64[ns]', freq=None)\n",
      "    Temperature\n",
      "10          6.0\n",
      "12          3.0\n",
      "13          3.0\n",
      "14          7.0\n",
      "17          7.0\n",
      "18          4.0\n",
      "19          7.0\n",
      "20          8.0\n",
      "22          5.0\n",
      "24          3.0\n",
      "27          7.0\n",
      "28          8.0\n",
      "29          4.0\n",
      "30          2.0\n",
      "5.315789473684211\n"
     ]
    }
   ],
   "source": [
    "import pandas as pd\n",
    "\n",
    "# Données des températures pour le mois de janvier\n",
    "january = pd.DataFrame({'Temperature': [-2,  5, -5,  6, -2,  0,  6,  2,  8,  0,  6, -1,  3,  3,  7,  0, -5,\n",
    "                                        7,  4,  7,  8, -1,  5, -2,  3, -3, -2,  7,  8,  4,  2]}, dtype='float64')\n",
    "\n",
    "# 1. Températures supérieures à 0\n",
    "# (january['Temperature']  > 0).astype(int).sum() <=> on fait la somme soit 0 soit 1\n",
    "# On peut également le faire sur True et False \n",
    "t_sup = (january['Temperature']  > 0).sum()\n",
    "print(t_sup)\n",
    "\n",
    "# 2. Comparaison des températures supérieures et inférieures à 0\n",
    "t_inf = (january['Temperature']  <= 0).sum()\n",
    "print(t_sup, t_inf)\n",
    "\n",
    "message = 'il y a plus de temperatures positives' if  t_sup > t_inf  else  'il y a plus de temperatures négatives' \n",
    "print(message)\n",
    "# 3. Pourcentage des températures positives sur le mois\n",
    "percentage_postivie =  round( t_sup / len(january) * 100 , 2 )\n",
    "print(percentage_postivie)\n",
    "\n",
    "# 4. Création d'un tableau des jours pour les températures supérieures à 0\n",
    "days = pd.date_range(start='2024-01-01', periods=len(january) )\n",
    "print( days[ january['Temperature']  > 0 ] )\n",
    "# 5. Températures supérieures à 0 à partir du dixième jour du mois\n",
    "january_sup_9 = january.iloc[9:][ january.iloc[9:]['Temperature'] > 0 ]\n",
    "print(january_sup_9)\n",
    "# 6. Remplacement des températures négatives par la moyenne des températures positives\n",
    "mean_positive = january[ january['Temperature'] > 0 ]['Temperature'].mean()\n",
    "print(mean_positive)\n",
    "# january[ january['Temperature'] < 0 ] = mean_positive\n",
    "\n",
    "# 7. (facultafif ) Identifiez la plus longue période consécutive de jours où la température était supérieure à zéro, et donnez la durée de cette période ainsi que les dates de début et de fin de cette période."
   ]
  },
  {
   "cell_type": "code",
   "execution_count": 2,
   "id": "3180d54c-3f4e-4528-a2e1-9b7676bd82b3",
   "metadata": {},
   "outputs": [
    {
     "name": "stdout",
     "output_type": "stream",
     "text": [
      "    Temperature  Temperature_sup_0  Day\n",
      "0          -2.0                  0    1\n",
      "1           5.0                  1    2\n",
      "2          -5.0                  0    3\n",
      "3           6.0                  1    4\n",
      "4          -2.0                  0    5\n",
      "5           0.0                  0    6\n",
      "6           6.0                  1    7\n",
      "7           2.0                  1    8\n",
      "8           8.0                  1    9\n",
      "9           0.0                  0   10\n",
      "10          6.0                  1   11\n",
      "11         -1.0                  0   12\n",
      "12          3.0                  1   13\n",
      "13          3.0                  1   14\n",
      "14          7.0                  1   15\n",
      "15          0.0                  0   16\n",
      "16         -5.0                  0   17\n",
      "17          7.0                  1   18\n",
      "18          4.0                  1   19\n",
      "19          7.0                  1   20\n",
      "20          8.0                  1   21\n",
      "21         -1.0                  0   22\n",
      "22          5.0                  1   23\n",
      "23         -2.0                  0   24\n",
      "24          3.0                  1   25\n",
      "25         -3.0                  0   26\n",
      "26         -2.0                  0   27\n",
      "27          7.0                  1   28\n",
      "28          8.0                  1   29\n",
      "29          4.0                  1   30\n",
      "30          2.0                  1   31\n"
     ]
    }
   ],
   "source": [
    "january = pd.DataFrame({'Temperature': [-2,  5, -5,  6, -2,  0,  6,  2,  8,  0,  6, -1,  3,  3,  7,  0, -5,\n",
    "                                        7,  4,  7,  8, -1,  5, -2,  3, -3, -2,  7,  8,  4,  2]}, dtype='float64')\n",
    "\n",
    "\n",
    "january['Temperature_sup_0'] = (january['Temperature']  > 0 ).astype(int)\n",
    "january['Day'] = january.index + 1\n",
    "print(january)\n"
   ]
  },
  {
   "cell_type": "code",
   "execution_count": 5,
   "id": "1e872284-e59a-49c2-b297-37d4ca6ac744",
   "metadata": {},
   "outputs": [
    {
     "data": {
      "text/plain": [
       "0      1\n",
       "1      2\n",
       "2      3\n",
       "3      4\n",
       "4      5\n",
       "5      5\n",
       "6      6\n",
       "7      6\n",
       "8      6\n",
       "9      7\n",
       "10     8\n",
       "11     9\n",
       "12    10\n",
       "13    10\n",
       "14    10\n",
       "15    11\n",
       "16    11\n",
       "17    12\n",
       "18    12\n",
       "19    12\n",
       "20    12\n",
       "21    13\n",
       "22    14\n",
       "23    15\n",
       "24    16\n",
       "25    17\n",
       "26    17\n",
       "27    18\n",
       "28    18\n",
       "29    18\n",
       "30    18\n",
       "Name: Temperature_sup_0, dtype: int64"
      ]
     },
     "execution_count": 5,
     "metadata": {},
     "output_type": "execute_result"
    }
   ],
   "source": [
    "(january['Temperature_sup_0'] != january['Temperature_sup_0'].shift()).cumsum()"
   ]
  },
  {
   "cell_type": "code",
   "execution_count": null,
   "id": "6be55146-acc0-49c3-8e49-d4caa0dc3dcb",
   "metadata": {},
   "outputs": [],
   "source": []
  }
 ],
 "metadata": {
  "kernelspec": {
   "display_name": "Python 3 (ipykernel)",
   "language": "python",
   "name": "python3"
  },
  "language_info": {
   "codemirror_mode": {
    "name": "ipython",
    "version": 3
   },
   "file_extension": ".py",
   "mimetype": "text/x-python",
   "name": "python",
   "nbconvert_exporter": "python",
   "pygments_lexer": "ipython3",
   "version": "3.11.9"
  }
 },
 "nbformat": 4,
 "nbformat_minor": 5
}
