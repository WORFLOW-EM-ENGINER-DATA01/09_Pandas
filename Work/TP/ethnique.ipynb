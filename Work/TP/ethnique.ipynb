{
 "cells": [
  {
   "cell_type": "code",
   "execution_count": 1,
   "id": "50e722ac-c3c4-4230-85dd-e88de3f7c0cf",
   "metadata": {},
   "outputs": [],
   "source": [
    "import pandas as pd"
   ]
  },
  {
   "cell_type": "code",
   "execution_count": 3,
   "id": "e74f1cb8-64d4-4827-baa8-e70c44ee2bdc",
   "metadata": {},
   "outputs": [],
   "source": [
    "# ?pd"
   ]
  },
  {
   "cell_type": "code",
   "execution_count": 6,
   "id": "360efae0-3b45-4754-a662-bbfa1cee25b5",
   "metadata": {},
   "outputs": [],
   "source": [
    "data = {\n",
    "    'ID': [1, 2, 3, 4, 5, 6, 7, 8, 9, 10],\n",
    "    'Age': [34, 22, 45, 29, 37, 19, 50, 27, 31, 23],\n",
    "    'Sexe': ['M', 'F', 'M', 'F', 'M', 'F', 'F', 'M', 'F', 'M'],\n",
    "    'Ethnicité': ['Asiatique', 'Européen', 'Africain', 'Latino-Américain', 'Européen', 'Asiatique', 'Africain', 'Européen', 'Latino-Américain', 'Asiatique']\n",
    "}\n",
    "\n",
    "df = pd.DataFrame(data)"
   ]
  },
  {
   "cell_type": "code",
   "execution_count": 9,
   "id": "6452862d-58ef-47dd-8225-a65d7f45c19d",
   "metadata": {},
   "outputs": [
    {
     "data": {
      "text/plain": [
       "Ethnicité\n",
       "Africain            2\n",
       "Asiatique           3\n",
       "Européen            3\n",
       "Latino-Américain    2\n",
       "dtype: int64"
      ]
     },
     "execution_count": 9,
     "metadata": {},
     "output_type": "execute_result"
    }
   ],
   "source": [
    "pivot_table = pd.pivot_table(df, index='Ethnicité', aggfunc='size')\n",
    "\n",
    "pivot_table"
   ]
  },
  {
   "cell_type": "code",
   "execution_count": 12,
   "id": "532189a0-c41e-4e1d-93bd-b3c27c513682",
   "metadata": {},
   "outputs": [
    {
     "data": {
      "text/plain": [
       "Ethnicité\n",
       "Africain            20.0\n",
       "Asiatique           30.0\n",
       "Européen            30.0\n",
       "Latino-Américain    20.0\n",
       "dtype: float64"
      ]
     },
     "execution_count": 12,
     "metadata": {},
     "output_type": "execute_result"
    }
   ],
   "source": [
    "proportion = pivot_table / pivot_table.sum() * 100 "
   ]
  },
  {
   "cell_type": "code",
   "execution_count": null,
   "id": "57256ff5-2b90-435f-9bfd-0a06bec81267",
   "metadata": {},
   "outputs": [],
   "source": []
  }
 ],
 "metadata": {
  "kernelspec": {
   "display_name": "Python 3 (ipykernel)",
   "language": "python",
   "name": "python3"
  },
  "language_info": {
   "codemirror_mode": {
    "name": "ipython",
    "version": 3
   },
   "file_extension": ".py",
   "mimetype": "text/x-python",
   "name": "python",
   "nbconvert_exporter": "python",
   "pygments_lexer": "ipython3",
   "version": "3.11.9"
  }
 },
 "nbformat": 4,
 "nbformat_minor": 5
}
